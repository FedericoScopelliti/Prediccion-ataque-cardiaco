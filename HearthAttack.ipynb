{
 "cells": [
  {
   "cell_type": "markdown",
   "metadata": {
    "id": "XOFoucDIYlYn"
   },
   "source": [
    "# **Hearth Attack Analysis**"
   ]
  },
  {
   "cell_type": "markdown",
   "metadata": {
    "id": "V8FJCO0qsrF8"
   },
   "source": [
    "### Información de kaggle respecto a que representa cada variable.\n",
    "\n",
    "**Edad** : Edad del paciente\n",
    " \n",
    "**Sexo** : Sexo del paciente\n",
    " \n",
    "**exang**: angina inducida por el ejercicio (1 = sí; 0 = no)\n",
    " \n",
    "**ca**: número de buques principales (0-3)\n",
    " \n",
    "**cp** : Tipo de dolor torácico:\n",
    " \n",
    "*Valor 1*: angina típica\n",
    " \n",
    "*Valor 2*: angina atípica\n",
    " \n",
    "*Valor 3*: dolor no anginoso\n",
    " \n",
    "*Valor 4*: asintomático\n",
    " \n",
    " \n",
    "**trtbps**: presión arterial en reposo (en mm Hg)\n",
    " \n",
    "**chol**: colesterol en mg/dl obtenido a través del sensor BMI\n",
    " \n",
    "**fbs**: (azúcar en sangre en ayunas > 120 mg/dl) (1 = verdadero; 0 = falso)\n",
    " \n",
    "**rest_ecg** : resultados electrocardiográficos en reposo\n",
    " \n",
    "*Valor 0*: normal\n",
    " \n",
    "*Valor 1*: tener anomalías en la onda ST-T (inversiones de la onda T y/o elevación o depresión del ST > 0,05 mV)\n",
    " \n",
    "*Valor 2*: mostrar hipertrofia ventricular izquierda probable o definitiva según los criterios de Estes\n",
    " \n",
    "**thalach**: frecuencia cardíaca máxima alcanzada\n",
    " \n",
    "**objetivo**: 0= menos posibilidades de ataque al corazón 1= más posibilidades de ataque al corazón\n",
    " \n",
    "\n"
   ]
  },
  {
   "cell_type": "markdown",
   "metadata": {
    "id": "oSUB4W4PZGlS"
   },
   "source": [
    "##  **1) Análisis exploratorio (EDA)**"
   ]
  },
  {
   "cell_type": "markdown",
   "metadata": {
    "id": "RwBOrvCLYluU"
   },
   "source": [
    " \n",
    " \n",
    "##### 1.1) Cuál es la pregunta que deseamos responder?\n",
    "##### 1.2) Veamos un poco el dataset.\n",
    "##### 1.3) Analisemos los tipos de datos que contiene nuestro dataset.\n",
    "##### 1.4) Estadística descriptiva.\n",
    "##### 1.5) Visualización.\n",
    "##### 1.6) Interacciones entre las variables.\n",
    "##### 1.7) Conclusiones del análisis exploratorio (EDA).\n",
    " \n",
    " \n",
    " \n",
    "\n",
    "\n"
   ]
  },
  {
   "cell_type": "markdown",
   "metadata": {
    "id": "arYpjlJNZTwC"
   },
   "source": [
    "##### **1.1) Cuál es el objetivo de este análisis?**\n",
    " \n",
    "Nuestro objetivo principal es predecir si las personas son propensas a sufrir un ataque cardíaco o no.\n",
    "Para lograr esto, vamos a analizar el dataset heart.csv que contiene información de diferentes personas que ya fueron diagnosticadas. Luego, vamos a entrenar un algoritmo para predecir a futuros pacientes que tengan algunos de estos síntomas.\n",
    "\n"
   ]
  },
  {
   "cell_type": "markdown",
   "metadata": {
    "id": "ZcDd-dpHaJEE"
   },
   "source": [
    "**1.2) Análisis del dataset**\n",
    "\n"
   ]
  },
  {
   "cell_type": "code",
   "execution_count": 1,
   "metadata": {
    "id": "6DoFF1TxYzse"
   },
   "outputs": [],
   "source": [
    "# Importamos las librerias\n",
    "\n",
    "import pandas as pd\n",
    "import numpy as np\n",
    "\n",
    "# Librerias para visualizar\n",
    "import matplotlib.pyplot as plt\n",
    "import seaborn as sns\n",
    "from matplotlib import rcParams\n",
    "\n",
    "# Train test split\n",
    "from sklearn.model_selection import train_test_split\n",
    "\n",
    "# Metricas\n",
    "from sklearn.metrics import confusion_matrix\n",
    "from sklearn.metrics import classification_report\n",
    "from sklearn.metrics import accuracy_score"
   ]
  },
  {
   "cell_type": "code",
   "execution_count": 2,
   "metadata": {
    "id": "21DAGAyLauVC"
   },
   "outputs": [],
   "source": [
    "data = pd.read_csv('heart.csv')"
   ]
  },
  {
   "cell_type": "code",
   "execution_count": 3,
   "metadata": {
    "colab": {
     "base_uri": "https://localhost:8080/",
     "height": 206
    },
    "id": "-Bzz7g2Ta5fs",
    "outputId": "2a451734-a6f3-45cd-9ff1-3e69222bfd72"
   },
   "outputs": [
    {
     "data": {
      "text/html": [
       "<div>\n",
       "<style scoped>\n",
       "    .dataframe tbody tr th:only-of-type {\n",
       "        vertical-align: middle;\n",
       "    }\n",
       "\n",
       "    .dataframe tbody tr th {\n",
       "        vertical-align: top;\n",
       "    }\n",
       "\n",
       "    .dataframe thead th {\n",
       "        text-align: right;\n",
       "    }\n",
       "</style>\n",
       "<table border=\"1\" class=\"dataframe\">\n",
       "  <thead>\n",
       "    <tr style=\"text-align: right;\">\n",
       "      <th></th>\n",
       "      <th>age</th>\n",
       "      <th>sex</th>\n",
       "      <th>cp</th>\n",
       "      <th>trtbps</th>\n",
       "      <th>chol</th>\n",
       "      <th>fbs</th>\n",
       "      <th>restecg</th>\n",
       "      <th>thalachh</th>\n",
       "      <th>exng</th>\n",
       "      <th>oldpeak</th>\n",
       "      <th>slp</th>\n",
       "      <th>caa</th>\n",
       "      <th>thall</th>\n",
       "      <th>output</th>\n",
       "    </tr>\n",
       "  </thead>\n",
       "  <tbody>\n",
       "    <tr>\n",
       "      <th>0</th>\n",
       "      <td>63</td>\n",
       "      <td>1</td>\n",
       "      <td>3</td>\n",
       "      <td>145</td>\n",
       "      <td>233</td>\n",
       "      <td>1</td>\n",
       "      <td>0</td>\n",
       "      <td>150</td>\n",
       "      <td>0</td>\n",
       "      <td>2.3</td>\n",
       "      <td>0</td>\n",
       "      <td>0</td>\n",
       "      <td>1</td>\n",
       "      <td>1</td>\n",
       "    </tr>\n",
       "    <tr>\n",
       "      <th>1</th>\n",
       "      <td>37</td>\n",
       "      <td>1</td>\n",
       "      <td>2</td>\n",
       "      <td>130</td>\n",
       "      <td>250</td>\n",
       "      <td>0</td>\n",
       "      <td>1</td>\n",
       "      <td>187</td>\n",
       "      <td>0</td>\n",
       "      <td>3.5</td>\n",
       "      <td>0</td>\n",
       "      <td>0</td>\n",
       "      <td>2</td>\n",
       "      <td>1</td>\n",
       "    </tr>\n",
       "    <tr>\n",
       "      <th>2</th>\n",
       "      <td>41</td>\n",
       "      <td>0</td>\n",
       "      <td>1</td>\n",
       "      <td>130</td>\n",
       "      <td>204</td>\n",
       "      <td>0</td>\n",
       "      <td>0</td>\n",
       "      <td>172</td>\n",
       "      <td>0</td>\n",
       "      <td>1.4</td>\n",
       "      <td>2</td>\n",
       "      <td>0</td>\n",
       "      <td>2</td>\n",
       "      <td>1</td>\n",
       "    </tr>\n",
       "    <tr>\n",
       "      <th>3</th>\n",
       "      <td>56</td>\n",
       "      <td>1</td>\n",
       "      <td>1</td>\n",
       "      <td>120</td>\n",
       "      <td>236</td>\n",
       "      <td>0</td>\n",
       "      <td>1</td>\n",
       "      <td>178</td>\n",
       "      <td>0</td>\n",
       "      <td>0.8</td>\n",
       "      <td>2</td>\n",
       "      <td>0</td>\n",
       "      <td>2</td>\n",
       "      <td>1</td>\n",
       "    </tr>\n",
       "    <tr>\n",
       "      <th>4</th>\n",
       "      <td>57</td>\n",
       "      <td>0</td>\n",
       "      <td>0</td>\n",
       "      <td>120</td>\n",
       "      <td>354</td>\n",
       "      <td>0</td>\n",
       "      <td>1</td>\n",
       "      <td>163</td>\n",
       "      <td>1</td>\n",
       "      <td>0.6</td>\n",
       "      <td>2</td>\n",
       "      <td>0</td>\n",
       "      <td>2</td>\n",
       "      <td>1</td>\n",
       "    </tr>\n",
       "  </tbody>\n",
       "</table>\n",
       "</div>"
      ],
      "text/plain": [
       "   age  sex  cp  trtbps  chol  fbs  restecg  thalachh  exng  oldpeak  slp  \\\n",
       "0   63    1   3     145   233    1        0       150     0      2.3    0   \n",
       "1   37    1   2     130   250    0        1       187     0      3.5    0   \n",
       "2   41    0   1     130   204    0        0       172     0      1.4    2   \n",
       "3   56    1   1     120   236    0        1       178     0      0.8    2   \n",
       "4   57    0   0     120   354    0        1       163     1      0.6    2   \n",
       "\n",
       "   caa  thall  output  \n",
       "0    0      1       1  \n",
       "1    0      2       1  \n",
       "2    0      2       1  \n",
       "3    0      2       1  \n",
       "4    0      2       1  "
      ]
     },
     "execution_count": 3,
     "metadata": {},
     "output_type": "execute_result"
    }
   ],
   "source": [
    "data.head()"
   ]
  },
  {
   "cell_type": "code",
   "execution_count": 4,
   "metadata": {
    "colab": {
     "base_uri": "https://localhost:8080/"
    },
    "id": "Qbyt-Yaya7Bp",
    "outputId": "99529860-5826-46e7-fef7-a2183d12b1ac"
   },
   "outputs": [
    {
     "name": "stdout",
     "output_type": "stream",
     "text": [
      "Filas y Columnas:\n",
      "(303, 14)\n"
     ]
    }
   ],
   "source": [
    "print(f'Filas y Columnas:\\n{data.shape}')"
   ]
  },
  {
   "cell_type": "code",
   "execution_count": 5,
   "metadata": {
    "colab": {
     "base_uri": "https://localhost:8080/"
    },
    "id": "QFJCnslNbaPi",
    "outputId": "83f42051-a629-40f8-989d-3eebb8887665"
   },
   "outputs": [
    {
     "name": "stdout",
     "output_type": "stream",
     "text": [
      "Nombres de nuestras columnas: \n",
      "\n",
      "Index(['age', 'sex', 'cp', 'trtbps', 'chol', 'fbs', 'restecg', 'thalachh',\n",
      "       'exng', 'oldpeak', 'slp', 'caa', 'thall', 'output'],\n",
      "      dtype='object')\n"
     ]
    }
   ],
   "source": [
    "print(f'Nombres de nuestras columnas: \\n\\n{data.columns}')"
   ]
  },
  {
   "cell_type": "markdown",
   "metadata": {
    "id": "xWEbv_TgcMXw"
   },
   "source": [
    "**1.3) Tipos de datos**"
   ]
  },
  {
   "cell_type": "code",
   "execution_count": 6,
   "metadata": {
    "colab": {
     "base_uri": "https://localhost:8080/"
    },
    "id": "05jZraDNbXV8",
    "outputId": "39ba1f0b-4af7-4562-bc11-4ef5d3407935"
   },
   "outputs": [
    {
     "name": "stdout",
     "output_type": "stream",
     "text": [
      "<class 'pandas.core.frame.DataFrame'>\n",
      "RangeIndex: 303 entries, 0 to 302\n",
      "Data columns (total 14 columns):\n",
      " #   Column    Non-Null Count  Dtype  \n",
      "---  ------    --------------  -----  \n",
      " 0   age       303 non-null    int64  \n",
      " 1   sex       303 non-null    int64  \n",
      " 2   cp        303 non-null    int64  \n",
      " 3   trtbps    303 non-null    int64  \n",
      " 4   chol      303 non-null    int64  \n",
      " 5   fbs       303 non-null    int64  \n",
      " 6   restecg   303 non-null    int64  \n",
      " 7   thalachh  303 non-null    int64  \n",
      " 8   exng      303 non-null    int64  \n",
      " 9   oldpeak   303 non-null    float64\n",
      " 10  slp       303 non-null    int64  \n",
      " 11  caa       303 non-null    int64  \n",
      " 12  thall     303 non-null    int64  \n",
      " 13  output    303 non-null    int64  \n",
      "dtypes: float64(1), int64(13)\n",
      "memory usage: 33.3 KB\n",
      "Tipos de datos de nuestro dataset: \n",
      "\n",
      "None\n"
     ]
    }
   ],
   "source": [
    "print(f'Tipos de datos de nuestro dataset: \\n\\n{data.info()}')"
   ]
  },
  {
   "cell_type": "markdown",
   "metadata": {
    "id": "sVdwutv6dq96"
   },
   "source": [
    "**1.4) Descripción estadística de los datos**\n",
    "\n"
   ]
  },
  {
   "cell_type": "code",
   "execution_count": 7,
   "metadata": {
    "colab": {
     "base_uri": "https://localhost:8080/",
     "height": 364
    },
    "id": "tKhxcgbxcaDM",
    "outputId": "16fe9cef-c8d4-4bc5-e896-83bcb18a7b3e"
   },
   "outputs": [
    {
     "data": {
      "text/html": [
       "<div>\n",
       "<style scoped>\n",
       "    .dataframe tbody tr th:only-of-type {\n",
       "        vertical-align: middle;\n",
       "    }\n",
       "\n",
       "    .dataframe tbody tr th {\n",
       "        vertical-align: top;\n",
       "    }\n",
       "\n",
       "    .dataframe thead th {\n",
       "        text-align: right;\n",
       "    }\n",
       "</style>\n",
       "<table border=\"1\" class=\"dataframe\">\n",
       "  <thead>\n",
       "    <tr style=\"text-align: right;\">\n",
       "      <th></th>\n",
       "      <th>age</th>\n",
       "      <th>sex</th>\n",
       "      <th>cp</th>\n",
       "      <th>trtbps</th>\n",
       "      <th>chol</th>\n",
       "      <th>fbs</th>\n",
       "      <th>restecg</th>\n",
       "      <th>thalachh</th>\n",
       "      <th>exng</th>\n",
       "      <th>oldpeak</th>\n",
       "      <th>slp</th>\n",
       "      <th>caa</th>\n",
       "      <th>thall</th>\n",
       "      <th>output</th>\n",
       "    </tr>\n",
       "  </thead>\n",
       "  <tbody>\n",
       "    <tr>\n",
       "      <th>count</th>\n",
       "      <td>303.000000</td>\n",
       "      <td>303.000000</td>\n",
       "      <td>303.000000</td>\n",
       "      <td>303.000000</td>\n",
       "      <td>303.000000</td>\n",
       "      <td>303.000000</td>\n",
       "      <td>303.000000</td>\n",
       "      <td>303.000000</td>\n",
       "      <td>303.000000</td>\n",
       "      <td>303.000000</td>\n",
       "      <td>303.000000</td>\n",
       "      <td>303.000000</td>\n",
       "      <td>303.000000</td>\n",
       "      <td>303.000000</td>\n",
       "    </tr>\n",
       "    <tr>\n",
       "      <th>mean</th>\n",
       "      <td>54.366337</td>\n",
       "      <td>0.683168</td>\n",
       "      <td>0.966997</td>\n",
       "      <td>131.623762</td>\n",
       "      <td>246.264026</td>\n",
       "      <td>0.148515</td>\n",
       "      <td>0.528053</td>\n",
       "      <td>149.646865</td>\n",
       "      <td>0.326733</td>\n",
       "      <td>1.039604</td>\n",
       "      <td>1.399340</td>\n",
       "      <td>0.729373</td>\n",
       "      <td>2.313531</td>\n",
       "      <td>0.544554</td>\n",
       "    </tr>\n",
       "    <tr>\n",
       "      <th>std</th>\n",
       "      <td>9.082101</td>\n",
       "      <td>0.466011</td>\n",
       "      <td>1.032052</td>\n",
       "      <td>17.538143</td>\n",
       "      <td>51.830751</td>\n",
       "      <td>0.356198</td>\n",
       "      <td>0.525860</td>\n",
       "      <td>22.905161</td>\n",
       "      <td>0.469794</td>\n",
       "      <td>1.161075</td>\n",
       "      <td>0.616226</td>\n",
       "      <td>1.022606</td>\n",
       "      <td>0.612277</td>\n",
       "      <td>0.498835</td>\n",
       "    </tr>\n",
       "    <tr>\n",
       "      <th>min</th>\n",
       "      <td>29.000000</td>\n",
       "      <td>0.000000</td>\n",
       "      <td>0.000000</td>\n",
       "      <td>94.000000</td>\n",
       "      <td>126.000000</td>\n",
       "      <td>0.000000</td>\n",
       "      <td>0.000000</td>\n",
       "      <td>71.000000</td>\n",
       "      <td>0.000000</td>\n",
       "      <td>0.000000</td>\n",
       "      <td>0.000000</td>\n",
       "      <td>0.000000</td>\n",
       "      <td>0.000000</td>\n",
       "      <td>0.000000</td>\n",
       "    </tr>\n",
       "    <tr>\n",
       "      <th>25%</th>\n",
       "      <td>47.500000</td>\n",
       "      <td>0.000000</td>\n",
       "      <td>0.000000</td>\n",
       "      <td>120.000000</td>\n",
       "      <td>211.000000</td>\n",
       "      <td>0.000000</td>\n",
       "      <td>0.000000</td>\n",
       "      <td>133.500000</td>\n",
       "      <td>0.000000</td>\n",
       "      <td>0.000000</td>\n",
       "      <td>1.000000</td>\n",
       "      <td>0.000000</td>\n",
       "      <td>2.000000</td>\n",
       "      <td>0.000000</td>\n",
       "    </tr>\n",
       "    <tr>\n",
       "      <th>50%</th>\n",
       "      <td>55.000000</td>\n",
       "      <td>1.000000</td>\n",
       "      <td>1.000000</td>\n",
       "      <td>130.000000</td>\n",
       "      <td>240.000000</td>\n",
       "      <td>0.000000</td>\n",
       "      <td>1.000000</td>\n",
       "      <td>153.000000</td>\n",
       "      <td>0.000000</td>\n",
       "      <td>0.800000</td>\n",
       "      <td>1.000000</td>\n",
       "      <td>0.000000</td>\n",
       "      <td>2.000000</td>\n",
       "      <td>1.000000</td>\n",
       "    </tr>\n",
       "    <tr>\n",
       "      <th>75%</th>\n",
       "      <td>61.000000</td>\n",
       "      <td>1.000000</td>\n",
       "      <td>2.000000</td>\n",
       "      <td>140.000000</td>\n",
       "      <td>274.500000</td>\n",
       "      <td>0.000000</td>\n",
       "      <td>1.000000</td>\n",
       "      <td>166.000000</td>\n",
       "      <td>1.000000</td>\n",
       "      <td>1.600000</td>\n",
       "      <td>2.000000</td>\n",
       "      <td>1.000000</td>\n",
       "      <td>3.000000</td>\n",
       "      <td>1.000000</td>\n",
       "    </tr>\n",
       "    <tr>\n",
       "      <th>max</th>\n",
       "      <td>77.000000</td>\n",
       "      <td>1.000000</td>\n",
       "      <td>3.000000</td>\n",
       "      <td>200.000000</td>\n",
       "      <td>564.000000</td>\n",
       "      <td>1.000000</td>\n",
       "      <td>2.000000</td>\n",
       "      <td>202.000000</td>\n",
       "      <td>1.000000</td>\n",
       "      <td>6.200000</td>\n",
       "      <td>2.000000</td>\n",
       "      <td>4.000000</td>\n",
       "      <td>3.000000</td>\n",
       "      <td>1.000000</td>\n",
       "    </tr>\n",
       "  </tbody>\n",
       "</table>\n",
       "</div>"
      ],
      "text/plain": [
       "              age         sex          cp      trtbps        chol         fbs  \\\n",
       "count  303.000000  303.000000  303.000000  303.000000  303.000000  303.000000   \n",
       "mean    54.366337    0.683168    0.966997  131.623762  246.264026    0.148515   \n",
       "std      9.082101    0.466011    1.032052   17.538143   51.830751    0.356198   \n",
       "min     29.000000    0.000000    0.000000   94.000000  126.000000    0.000000   \n",
       "25%     47.500000    0.000000    0.000000  120.000000  211.000000    0.000000   \n",
       "50%     55.000000    1.000000    1.000000  130.000000  240.000000    0.000000   \n",
       "75%     61.000000    1.000000    2.000000  140.000000  274.500000    0.000000   \n",
       "max     77.000000    1.000000    3.000000  200.000000  564.000000    1.000000   \n",
       "\n",
       "          restecg    thalachh        exng     oldpeak         slp         caa  \\\n",
       "count  303.000000  303.000000  303.000000  303.000000  303.000000  303.000000   \n",
       "mean     0.528053  149.646865    0.326733    1.039604    1.399340    0.729373   \n",
       "std      0.525860   22.905161    0.469794    1.161075    0.616226    1.022606   \n",
       "min      0.000000   71.000000    0.000000    0.000000    0.000000    0.000000   \n",
       "25%      0.000000  133.500000    0.000000    0.000000    1.000000    0.000000   \n",
       "50%      1.000000  153.000000    0.000000    0.800000    1.000000    0.000000   \n",
       "75%      1.000000  166.000000    1.000000    1.600000    2.000000    1.000000   \n",
       "max      2.000000  202.000000    1.000000    6.200000    2.000000    4.000000   \n",
       "\n",
       "            thall      output  \n",
       "count  303.000000  303.000000  \n",
       "mean     2.313531    0.544554  \n",
       "std      0.612277    0.498835  \n",
       "min      0.000000    0.000000  \n",
       "25%      2.000000    0.000000  \n",
       "50%      2.000000    1.000000  \n",
       "75%      3.000000    1.000000  \n",
       "max      3.000000    1.000000  "
      ]
     },
     "execution_count": 7,
     "metadata": {},
     "output_type": "execute_result"
    }
   ],
   "source": [
    "data.describe()"
   ]
  },
  {
   "cell_type": "markdown",
   "metadata": {
    "id": "VDgMfnoger2u"
   },
   "source": [
    "**1.5) Visualización de los datos**\n",
    "\n"
   ]
  },
  {
   "cell_type": "code",
   "execution_count": 8,
   "metadata": {
    "colab": {
     "base_uri": "https://localhost:8080/",
     "height": 206
    },
    "id": "L_wy3_jUfzd4",
    "outputId": "3b690d5e-709d-40e1-b0e7-bbe36c1c076f"
   },
   "outputs": [
    {
     "data": {
      "text/html": [
       "<div>\n",
       "<style scoped>\n",
       "    .dataframe tbody tr th:only-of-type {\n",
       "        vertical-align: middle;\n",
       "    }\n",
       "\n",
       "    .dataframe tbody tr th {\n",
       "        vertical-align: top;\n",
       "    }\n",
       "\n",
       "    .dataframe thead th {\n",
       "        text-align: right;\n",
       "    }\n",
       "</style>\n",
       "<table border=\"1\" class=\"dataframe\">\n",
       "  <thead>\n",
       "    <tr style=\"text-align: right;\">\n",
       "      <th></th>\n",
       "      <th>age</th>\n",
       "      <th>sex</th>\n",
       "      <th>cp</th>\n",
       "      <th>trtbps</th>\n",
       "      <th>chol</th>\n",
       "      <th>fbs</th>\n",
       "      <th>restecg</th>\n",
       "      <th>thalachh</th>\n",
       "      <th>exng</th>\n",
       "      <th>oldpeak</th>\n",
       "      <th>slp</th>\n",
       "      <th>caa</th>\n",
       "      <th>thall</th>\n",
       "      <th>output</th>\n",
       "    </tr>\n",
       "  </thead>\n",
       "  <tbody>\n",
       "    <tr>\n",
       "      <th>0</th>\n",
       "      <td>63</td>\n",
       "      <td>1</td>\n",
       "      <td>3</td>\n",
       "      <td>145</td>\n",
       "      <td>233</td>\n",
       "      <td>1</td>\n",
       "      <td>0</td>\n",
       "      <td>150</td>\n",
       "      <td>0</td>\n",
       "      <td>2.3</td>\n",
       "      <td>0</td>\n",
       "      <td>0</td>\n",
       "      <td>1</td>\n",
       "      <td>1</td>\n",
       "    </tr>\n",
       "    <tr>\n",
       "      <th>1</th>\n",
       "      <td>37</td>\n",
       "      <td>1</td>\n",
       "      <td>2</td>\n",
       "      <td>130</td>\n",
       "      <td>250</td>\n",
       "      <td>0</td>\n",
       "      <td>1</td>\n",
       "      <td>187</td>\n",
       "      <td>0</td>\n",
       "      <td>3.5</td>\n",
       "      <td>0</td>\n",
       "      <td>0</td>\n",
       "      <td>2</td>\n",
       "      <td>1</td>\n",
       "    </tr>\n",
       "    <tr>\n",
       "      <th>2</th>\n",
       "      <td>41</td>\n",
       "      <td>0</td>\n",
       "      <td>1</td>\n",
       "      <td>130</td>\n",
       "      <td>204</td>\n",
       "      <td>0</td>\n",
       "      <td>0</td>\n",
       "      <td>172</td>\n",
       "      <td>0</td>\n",
       "      <td>1.4</td>\n",
       "      <td>2</td>\n",
       "      <td>0</td>\n",
       "      <td>2</td>\n",
       "      <td>1</td>\n",
       "    </tr>\n",
       "    <tr>\n",
       "      <th>3</th>\n",
       "      <td>56</td>\n",
       "      <td>1</td>\n",
       "      <td>1</td>\n",
       "      <td>120</td>\n",
       "      <td>236</td>\n",
       "      <td>0</td>\n",
       "      <td>1</td>\n",
       "      <td>178</td>\n",
       "      <td>0</td>\n",
       "      <td>0.8</td>\n",
       "      <td>2</td>\n",
       "      <td>0</td>\n",
       "      <td>2</td>\n",
       "      <td>1</td>\n",
       "    </tr>\n",
       "    <tr>\n",
       "      <th>4</th>\n",
       "      <td>57</td>\n",
       "      <td>0</td>\n",
       "      <td>0</td>\n",
       "      <td>120</td>\n",
       "      <td>354</td>\n",
       "      <td>0</td>\n",
       "      <td>1</td>\n",
       "      <td>163</td>\n",
       "      <td>1</td>\n",
       "      <td>0.6</td>\n",
       "      <td>2</td>\n",
       "      <td>0</td>\n",
       "      <td>2</td>\n",
       "      <td>1</td>\n",
       "    </tr>\n",
       "  </tbody>\n",
       "</table>\n",
       "</div>"
      ],
      "text/plain": [
       "   age  sex  cp  trtbps  chol  fbs  restecg  thalachh  exng  oldpeak  slp  \\\n",
       "0   63    1   3     145   233    1        0       150     0      2.3    0   \n",
       "1   37    1   2     130   250    0        1       187     0      3.5    0   \n",
       "2   41    0   1     130   204    0        0       172     0      1.4    2   \n",
       "3   56    1   1     120   236    0        1       178     0      0.8    2   \n",
       "4   57    0   0     120   354    0        1       163     1      0.6    2   \n",
       "\n",
       "   caa  thall  output  \n",
       "0    0      1       1  \n",
       "1    0      2       1  \n",
       "2    0      2       1  \n",
       "3    0      2       1  \n",
       "4    0      2       1  "
      ]
     },
     "execution_count": 8,
     "metadata": {},
     "output_type": "execute_result"
    }
   ],
   "source": [
    "data.head()"
   ]
  },
  {
   "cell_type": "code",
   "execution_count": 9,
   "metadata": {
    "colab": {
     "base_uri": "https://localhost:8080/",
     "height": 1000
    },
    "id": "PVvmz0Y6eOri",
    "outputId": "8cb42a48-01e3-48d8-a8b2-14f9ccdbd338"
   },
   "outputs": [
    {
     "data": {
      "image/png": "[encoded data removed]",
      "text/plain": [
       "<Figure size 432x288 with 1 Axes>"
      ]
     },
     "metadata": {
      "needs_background": "light"
     },
     "output_type": "display_data"
    },
    {
     "name": "stdout",
     "output_type": "stream",
     "text": [
      "\tValores entre el mínimo y el máximo\n",
      "29 47.5 55.0 61.0 77\n",
      "--------------------------------------------------\n"
     ]
    },
    {
     "data": {
      "image/png": "[encoded data removed]",
      "text/plain": [
       "<Figure size 432x288 with 1 Axes>"
      ]
     },
     "metadata": {
      "needs_background": "light"
     },
     "output_type": "display_data"
    },
    {
     "name": "stdout",
     "output_type": "stream",
     "text": [
      "\tValores entre el mínimo y el máximo\n",
      "94 120.0 130.0 140.0 200\n",
      "--------------------------------------------------\n"
     ]
    },
    {
     "data": {
      "image/png": "[encoded data removed]",
      "text/plain": [
       "<Figure size 432x288 with 1 Axes>"
      ]
     },
     "metadata": {
      "needs_background": "light"
     },
     "output_type": "display_data"
    },
    {
     "name": "stdout",
     "output_type": "stream",
     "text": [
      "\tValores entre el mínimo y el máximo\n",
      "126 211.0 240.0 274.5 564\n",
      "--------------------------------------------------\n"
     ]
    },
    {
     "data": {
      "image/png": "[encoded data removed]",
      "text/plain": [
       "<Figure size 432x288 with 1 Axes>"
      ]
     },
     "metadata": {
      "needs_background": "light"
     },
     "output_type": "display_data"
    },
    {
     "name": "stdout",
     "output_type": "stream",
     "text": [
      "\tValores entre el mínimo y el máximo\n",
      "71 133.5 153.0 166.0 202\n",
      "--------------------------------------------------\n"
     ]
    },
    {
     "data": {
      "image/png": "[encoded data removed]",
      "text/plain": [
       "<Figure size 432x288 with 1 Axes>"
      ]
     },
     "metadata": {
      "needs_background": "light"
     },
     "output_type": "display_data"
    },
    {
     "name": "stdout",
     "output_type": "stream",
     "text": [
      "\tValores entre el mínimo y el máximo\n",
      "0.0 0.0 0.8 1.6 6.2\n",
      "--------------------------------------------------\n"
     ]
    }
   ],
   "source": [
    "data_col = ['age','trtbps',\n",
    "            'chol', 'thalachh',\n",
    "            'oldpeak']\n",
    "\n",
    "\n",
    "for  col in data_col:\n",
    "  plt.figure(figsize=(6,4))\n",
    "  plt.title(col.upper())\n",
    "  plt.grid(True)\n",
    "  sns.boxplot(data=data, x=col, hue=col)\n",
    "  plt.show()\n",
    "  print('\tValores entre el mínimo y el máximo')\n",
    "  print(np.min(data[col]), np.quantile(data[col], 0.25), np.median(data[col]), np.quantile(data[col], 0.75), np.max(data[col]))\n",
    "  print('-'*50)"
   ]
  },
  {
   "cell_type": "markdown",
   "metadata": {
    "id": "u5ZQMU3nodef"
   },
   "source": [
    "Podemos ver que en todos los gráficos excepto el de edad, todos tienen algunos valores atípicos(**outliers**). Estos los vamos a tratar más adelante.\n",
    "\n"
   ]
  },
  {
   "cell_type": "markdown",
   "metadata": {
    "id": "2Xg0n7ebo_Sv"
   },
   "source": [
    "#### Vamos a comparar los valores categóricos.\n",
    "\n"
   ]
  },
  {
   "cell_type": "markdown",
   "metadata": {
    "id": "cwDNcKLZqrz3"
   },
   "source": [
    "En primer lugar, comprobamos los valores únicos de estas variables.\n",
    "\n"
   ]
  },
  {
   "cell_type": "code",
   "execution_count": 10,
   "metadata": {
    "colab": {
     "base_uri": "https://localhost:8080/"
    },
    "id": "Qvtq2Dih3Lyk",
    "outputId": "bf907cb7-5adf-444e-999c-dbbfaba171cf"
   },
   "outputs": [
    {
     "name": "stdout",
     "output_type": "stream",
     "text": [
      "Valores únicos de: sex\n",
      "[1 0]\n",
      "\n",
      "Valores únicos de: cp\n",
      "[3 2 1 0]\n",
      "\n",
      "Valores únicos de: fbs\n",
      "[1 0]\n",
      "\n",
      "Valores únicos de: restecg\n",
      "[0 1 2]\n",
      "\n",
      "Valores únicos de: exng\n",
      "[0 1]\n",
      "\n",
      "Valores únicos de: slp\n",
      "[0 2 1]\n",
      "\n",
      "Valores únicos de: caa\n",
      "[0 2 1 3 4]\n",
      "\n",
      "Valores únicos de: thall\n",
      "[1 2 3 0]\n",
      "\n",
      "Valores únicos de: output\n",
      "[1 0]\n",
      "\n"
     ]
    }
   ],
   "source": [
    "valores_categoricos = ['sex', 'cp', 'fbs', 'restecg', 'exng' ,'slp',\n",
    "                       'caa','thall', 'output']\n",
    "\n",
    "for i in valores_categoricos:\n",
    "  print(f'Valores únicos de: {i}\\n{data[i].unique()}\\n')"
   ]
  },
  {
   "cell_type": "markdown",
   "metadata": {
    "id": "bfij4OZZNQaE"
   },
   "source": [
    "### Suma de la variable dependiente para ver si los datos están desbalanceados.\n",
    "\n",
    "\n",
    "\n"
   ]
  },
  {
   "cell_type": "code",
   "execution_count": 11,
   "metadata": {
    "colab": {
     "base_uri": "https://localhost:8080/"
    },
    "id": "-FgODTWWNQ-o",
    "outputId": "8c0062f1-070e-4a6e-aa8f-5d3a4f4f4a8a"
   },
   "outputs": [
    {
     "name": "stdout",
     "output_type": "stream",
     "text": [
      "1    165\n",
      "0    138\n",
      "Name: output, dtype: int64\n"
     ]
    }
   ],
   "source": [
    "datos_output = data['output'].value_counts()\n",
    "print(datos_output)"
   ]
  },
  {
   "cell_type": "code",
   "execution_count": 12,
   "metadata": {
    "colab": {
     "base_uri": "https://localhost:8080/",
     "height": 1000
    },
    "id": "OMTpHSWTqhxO",
    "outputId": "864ad48f-c46d-4756-80ca-c0fb4c5b8ede"
   },
   "outputs": [
    {
     "data": {
      "image/png": "[encoded data removed]",
      "text/plain": [
       "<Figure size 432x288 with 1 Axes>"
      ]
     },
     "metadata": {
      "needs_background": "light"
     },
     "output_type": "display_data"
    },
    {
     "data": {
      "image/png": "[encoded data removed]",
      "text/plain": [
       "<Figure size 432x288 with 1 Axes>"
      ]
     },
     "metadata": {
      "needs_background": "light"
     },
     "output_type": "display_data"
    },
    {
     "data": {
      "image/png": "[encoded data removed]",
      "text/plain": [
       "<Figure size 432x288 with 1 Axes>"
      ]
     },
     "metadata": {
      "needs_background": "light"
     },
     "output_type": "display_data"
    },
    {
     "data": {
      "image/png": "[encoded data removed]",
      "text/plain": [
       "<Figure size 432x288 with 1 Axes>"
      ]
     },
     "metadata": {
      "needs_background": "light"
     },
     "output_type": "display_data"
    },
    {
     "data": {
      "image/png": "[encoded data removed]",
      "text/plain": [
       "<Figure size 432x288 with 1 Axes>"
      ]
     },
     "metadata": {
      "needs_background": "light"
     },
     "output_type": "display_data"
    },
    {
     "data": {
      "image/png": "[encoded data removed]",
      "text/plain": [
       "<Figure size 432x288 with 1 Axes>"
      ]
     },
     "metadata": {
      "needs_background": "light"
     },
     "output_type": "display_data"
    },
    {
     "data": {
      "image/png": "[encoded data removed]",
      "text/plain": [
       "<Figure size 432x288 with 1 Axes>"
      ]
     },
     "metadata": {
      "needs_background": "light"
     },
     "output_type": "display_data"
    },
    {
     "data": {
      "image/png": "[encoded data removed]",
      "text/plain": [
       "<Figure size 432x288 with 1 Axes>"
      ]
     },
     "metadata": {
      "needs_background": "light"
     },
     "output_type": "display_data"
    },
    {
     "data": {
      "image/png": "[encoded data removed]",
      "text/plain": [
       "<Figure size 432x288 with 1 Axes>"
      ]
     },
     "metadata": {
      "needs_background": "light"
     },
     "output_type": "display_data"
    }
   ],
   "source": [
    "for cat in valores_categoricos:\n",
    "  plt.figure(figsize=(6,4))\n",
    "  plt.title(cat.upper())\n",
    "  plt.grid(True)\n",
    "  sns.countplot(data=data, x=cat, hue='output')\n",
    "  plt.show()"
   ]
  },
  {
   "cell_type": "markdown",
   "metadata": {
    "id": "Uc4IPE5Uw63d"
   },
   "source": [
    "**1.6) Interacciones entre las variables**"
   ]
  },
  {
   "cell_type": "markdown",
   "metadata": {
    "id": "8McbhCKXxELV"
   },
   "source": [
    "Vamos a graficar una matriz de correlación para ver la relación que hay entre la variable output y las demás.\n",
    "\n"
   ]
  },
  {
   "cell_type": "code",
   "execution_count": 14,
   "metadata": {
    "colab": {
     "base_uri": "https://localhost:8080/",
     "height": 575
    },
    "id": "5GqUYIVhsMEj",
    "outputId": "6218414c-1e38-4bd4-b21b-78c49fe61bae"
   },
   "outputs": [
    {
     "data": {
      "image/png": "[encoded data removed]",
      "text/plain": [
       "<Figure size 864x648 with 2 Axes>"
      ]
     },
     "metadata": {
      "needs_background": "light"
     },
     "output_type": "display_data"
    }
   ],
   "source": [
    "plt.figure(figsize=(12,9))\n",
    "sns.heatmap(data.corr(), annot=True, linewidth=.5, cmap=\"rocket_r\")\n",
    "plt.show()"
   ]
  },
  {
   "cell_type": "markdown",
   "metadata": {
    "id": "sRgjz6uF0NjA"
   },
   "source": [
    "**1.7) Conclusiones del análisis exploratorio (EDA)**\n",
    "\n"
   ]
  },
  {
   "cell_type": "markdown",
   "metadata": {
    "id": "BRlEOUk10Q84"
   },
   "source": [
    "Contamos con un dataset de 303 filas y 14 columnas. Cabe aclarar que en kaggle, no explica de que se tratan las variables oldpeak, slp y thall. Buscando información, solo pude encontrar información sobre oldpeak:\n",
    " \n",
    "**oldpeak** Es un dolor opresivo que causa ardor. A veces se acompaña de náuseas, sudoración excesiva, dificultad para respirar y pérdida de conocimiento.\n",
    " \n",
    "Los tipos de datos que vamos a manejar son numéricos(discretos y continuos) y categóricos(ordinales).\n",
    "Además, con el código info() podemos ver que no tenemos valores nulos.\n",
    " \n",
    "Con respecto a la descripción estadística, nos indica que la **media de edad en los pacientes es de 54** (no tenemos outliers que nos modifiquen la media).\n",
    "La **frecuencia cardíaca es de 149**, del **colesterol 246** y la **presión arterial en reposo de 131**.\n",
    " \n",
    " \n",
    "\n"
   ]
  },
  {
   "cell_type": "markdown",
   "metadata": {
    "id": "ku6AUi9no2Zx"
   },
   "source": [
    "## **2) Limpieza de datos**"
   ]
  },
  {
   "cell_type": "markdown",
   "metadata": {
    "id": "iAxCuP-ApNzD"
   },
   "source": [
    "Vamos a realizar una limpieza de datos. Si bien ya sabemos algunos detalles, repasamos de forma breve algunos puntos a tener en cuenta para tener el dataset preparado para el entrenamiento.\n",
    "\n"
   ]
  },
  {
   "cell_type": "markdown",
   "metadata": {
    "id": "4Nj6qdg1prWP"
   },
   "source": [
    "##### 2.1) Datos faltantes en las celdas.\n",
    " \n",
    "##### 2.2) Datos repetidos en filas.\n",
    " \n",
    "##### 2.3) Revisar los outliers que vimos en los gráficos de caja y tomar decisiones respecto a ellos.\n",
    "\n"
   ]
  },
  {
   "cell_type": "markdown",
   "metadata": {
    "id": "D_zn8IcjqfBB"
   },
   "source": [
    "**2.1) Datos faltantes en las celdas**"
   ]
  },
  {
   "cell_type": "code",
   "execution_count": 15,
   "metadata": {
    "colab": {
     "base_uri": "https://localhost:8080/"
    },
    "id": "v1T6bnOTZXGv",
    "outputId": "e8ad2372-762b-4ea7-b49f-3eee62e4511b"
   },
   "outputs": [
    {
     "data": {
      "text/plain": [
       "age         0\n",
       "sex         0\n",
       "cp          0\n",
       "trtbps      0\n",
       "chol        0\n",
       "fbs         0\n",
       "restecg     0\n",
       "thalachh    0\n",
       "exng        0\n",
       "oldpeak     0\n",
       "slp         0\n",
       "caa         0\n",
       "thall       0\n",
       "output      0\n",
       "dtype: int64"
      ]
     },
     "execution_count": 15,
     "metadata": {},
     "output_type": "execute_result"
    }
   ],
   "source": [
    "data.isna().sum()"
   ]
  },
  {
   "cell_type": "markdown",
   "metadata": {
    "id": "y1HndVgkDGKD"
   },
   "source": [
    "**2.2) Datos repetidos en filas**"
   ]
  },
  {
   "cell_type": "code",
   "execution_count": 16,
   "metadata": {
    "colab": {
     "base_uri": "https://localhost:8080/"
    },
    "id": "67qKrdUtB_mp",
    "outputId": "c0d385ac-628f-44a9-d5d3-31a8964d0bdf"
   },
   "outputs": [
    {
     "name": "stdout",
     "output_type": "stream",
     "text": [
      "Tamaño de filas originales: (303, 14)\n",
      "\n",
      "Tamaño de filas eliminando los duplicados: (302, 14)\n"
     ]
    }
   ],
   "source": [
    "print(f'Tamaño de filas originales: {data.shape}\\n')\n",
    "data.drop_duplicates(inplace=True)\n",
    "print(f'Tamaño de filas eliminando los duplicados: {data.shape}')"
   ]
  },
  {
   "cell_type": "markdown",
   "metadata": {
    "id": "gmg6eAfJFr3o"
   },
   "source": [
    "**2.4) Revisar los outliers**"
   ]
  },
  {
   "cell_type": "markdown",
   "metadata": {
    "id": "t0XKyC8oHqCX"
   },
   "source": [
    "Si observamos un poco los valores extremos de las boxplot (**Punto (1.5)**) vamos a ver que no son muchos pacientes que tengan el colesterol o la presión arterial muy alta. Podemos decir que es posible que se presenten personas con estas características. Por lo tanto, no modificaremos ninguno de esos valores. \n",
    "\n"
   ]
  },
  {
   "cell_type": "markdown",
   "metadata": {
    "id": "B_1o_v8YJNX2"
   },
   "source": [
    "\n",
    "\n",
    "---\n",
    "\n"
   ]
  },
  {
   "cell_type": "markdown",
   "metadata": {
    "id": "I04TbN0mJQsL"
   },
   "source": [
    "## **3) Algoritmos de Machine Learning**"
   ]
  },
  {
   "cell_type": "markdown",
   "metadata": {
    "id": "-VZg98kSJda5"
   },
   "source": [
    "Una vez terminado el análisis y la limpieza de los datos, vamos a crear diferentes algoritmos para predecir a futuros pacientes y tomar medidas en contra de los problemas cardiovasculares.\n",
    " \n",
    "Primero vamos a utilizar Standard Scaler y dividir los datos en entrenamiento y testeo\n",
    "##### 3.1) Estandarizar los valores.\n",
    " \n",
    "##### 3.2) Algoritmos de aprendizaje supervisado\n",
    " \n",
    "##### KNN (Vecinos más cercanos)\n",
    "##### Bayes Ingenuo\n",
    "##### Máquinas de soporte vectorial\n",
    "##### Árboles de decisión\n",
    "##### LDA\n",
    "##### 3.6) Comparamos efectividad con métricas y matriz de confusión\n",
    "\n"
   ]
  },
  {
   "cell_type": "markdown",
   "metadata": {
    "id": "2JJprEDJLQmL"
   },
   "source": [
    "**3.1) Standar Scaler y Train Test Split**"
   ]
  },
  {
   "cell_type": "code",
   "execution_count": 17,
   "metadata": {
    "colab": {
     "base_uri": "https://localhost:8080/"
    },
    "id": "bLmZ0hiCMGJs",
    "outputId": "989e0ab7-647c-41e6-81bc-a1f8568d2b1e"
   },
   "outputs": [
    {
     "name": "stdout",
     "output_type": "stream",
     "text": [
      "[[63.  1.  3. ...  0.  0.  1.]\n",
      " [37.  1.  2. ...  0.  0.  2.]\n",
      " [41.  0.  1. ...  2.  0.  2.]\n",
      " ...\n",
      " [68.  1.  0. ...  1.  2.  3.]\n",
      " [57.  1.  0. ...  1.  1.  3.]\n",
      " [57.  0.  1. ...  1.  1.  2.]]\n",
      "[1 1 1 1 1 1 1 1 1 1 1 1 1 1 1 1 1 1 1 1 1 1 1 1 1 1 1 1 1 1 1 1 1 1 1 1 1\n",
      " 1 1 1 1 1 1 1 1 1 1 1 1 1 1 1 1 1 1 1 1 1 1 1 1 1 1 1 1 1 1 1 1 1 1 1 1 1\n",
      " 1 1 1 1 1 1 1 1 1 1 1 1 1 1 1 1 1 1 1 1 1 1 1 1 1 1 1 1 1 1 1 1 1 1 1 1 1\n",
      " 1 1 1 1 1 1 1 1 1 1 1 1 1 1 1 1 1 1 1 1 1 1 1 1 1 1 1 1 1 1 1 1 1 1 1 1 1\n",
      " 1 1 1 1 1 1 1 1 1 1 1 1 1 1 1 1 0 0 0 0 0 0 0 0 0 0 0 0 0 0 0 0 0 0 0 0 0\n",
      " 0 0 0 0 0 0 0 0 0 0 0 0 0 0 0 0 0 0 0 0 0 0 0 0 0 0 0 0 0 0 0 0 0 0 0 0 0\n",
      " 0 0 0 0 0 0 0 0 0 0 0 0 0 0 0 0 0 0 0 0 0 0 0 0 0 0 0 0 0 0 0 0 0 0 0 0 0\n",
      " 0 0 0 0 0 0 0 0 0 0 0 0 0 0 0 0 0 0 0 0 0 0 0 0 0 0 0 0 0 0 0 0 0 0 0 0 0\n",
      " 0 0 0 0 0 0]\n"
     ]
    }
   ],
   "source": [
    "y = data['output'].values\n",
    "X = data.drop(columns='output').values\n",
    "\n",
    "print(X)\n",
    "print(y)"
   ]
  },
  {
   "cell_type": "code",
   "execution_count": 18,
   "metadata": {
    "colab": {
     "base_uri": "https://localhost:8080/"
    },
    "id": "NpujdLswLT6h",
    "outputId": "0fc5bfee-eb84-4245-cafc-3b7fd20300f3"
   },
   "outputs": [
    {
     "ename": "NameError",
     "evalue": "name 'data_sc' is not defined",
     "output_type": "error",
     "traceback": [
      "\u001b[1;31m---------------------------------------------------------------------------\u001b[0m",
      "\u001b[1;31mNameError\u001b[0m                                 Traceback (most recent call last)",
      "\u001b[1;32mC:\\Users\\FEDEYM~1\\AppData\\Local\\Temp/ipykernel_5072/2264084340.py\u001b[0m in \u001b[0;36m<module>\u001b[1;34m\u001b[0m\n\u001b[0;32m      2\u001b[0m \u001b[1;33m\u001b[0m\u001b[0m\n\u001b[0;32m      3\u001b[0m \u001b[0mX\u001b[0m \u001b[1;33m=\u001b[0m \u001b[0mStandardScaler\u001b[0m\u001b[1;33m(\u001b[0m\u001b[1;33m)\u001b[0m\u001b[1;33m.\u001b[0m\u001b[0mfit_transform\u001b[0m\u001b[1;33m(\u001b[0m\u001b[0mX\u001b[0m\u001b[1;33m)\u001b[0m\u001b[1;33m\u001b[0m\u001b[1;33m\u001b[0m\u001b[0m\n\u001b[1;32m----> 4\u001b[1;33m \u001b[0mprint\u001b[0m\u001b[1;33m(\u001b[0m\u001b[0mdata_sc\u001b[0m\u001b[1;33m)\u001b[0m\u001b[1;33m\u001b[0m\u001b[1;33m\u001b[0m\u001b[0m\n\u001b[0m",
      "\u001b[1;31mNameError\u001b[0m: name 'data_sc' is not defined"
     ]
    }
   ],
   "source": [
    "from sklearn.preprocessing import StandardScaler\n",
    "\n",
    "X = StandardScaler().fit_transform(X)\n",
    "print(data_sc)"
   ]
  },
  {
   "cell_type": "code",
   "execution_count": 19,
   "metadata": {
    "id": "z7IgIY2yLrJB"
   },
   "outputs": [
    {
     "name": "stdout",
     "output_type": "stream",
     "text": [
      "X_train: (241, 13)\n",
      "X_test: (61, 13)\n",
      "y_train: (241,)\n",
      "y_test: (61,)\n"
     ]
    }
   ],
   "source": [
    "# Utilizamos train test split\n",
    "\n",
    "X_train, X_test, y_train, y_test = train_test_split(X, y, test_size=0.2, random_state=42)\n",
    "\n",
    "print(f'X_train: {X_train.shape}')\n",
    "print(f'X_test: {X_test.shape}')\n",
    "print(f'y_train: {y_train.shape}')\n",
    "print(f'y_test: {y_test.shape}')"
   ]
  },
  {
   "cell_type": "code",
   "execution_count": 20,
   "metadata": {
    "id": "XupwRi2K7DKn"
   },
   "outputs": [],
   "source": [
    "# Librerias\n",
    "\n",
    "from sklearn import svm\n",
    "from sklearn.neighbors import KNeighborsClassifier\n",
    "from sklearn.naive_bayes import GaussianNB\n",
    "from sklearn.tree import DecisionTreeClassifier\n",
    "from sklearn.discriminant_analysis import LinearDiscriminantAnalysis as LDA"
   ]
  },
  {
   "cell_type": "code",
   "execution_count": 21,
   "metadata": {
    "id": "qS_zIA-Y5W8e"
   },
   "outputs": [],
   "source": [
    "algoritmos = {\n",
    "    'Knn' : KNeighborsClassifier(n_neighbors=3),\n",
    "    'Bayes' : GaussianNB(),\n",
    "    'SVectorial' : svm.SVC(),\n",
    "    'Arboles_decision' : DecisionTreeClassifier(),\n",
    "    'LDA' : LDA()\n",
    "}"
   ]
  },
  {
   "cell_type": "code",
   "execution_count": 22,
   "metadata": {
    "colab": {
     "base_uri": "https://localhost:8080/",
     "height": 1000
    },
    "id": "MN33KOsg7g-i",
    "outputId": "803491df-01f2-4dd7-dd73-016f31d33c9c"
   },
   "outputs": [
    {
     "name": "stdout",
     "output_type": "stream",
     "text": [
      "Matriz de confusión del algoritmo Knn\n",
      "\n"
     ]
    },
    {
     "data": {
      "image/png": "[encoded data removed]",
      "text/plain": [
       "<Figure size 288x288 with 2 Axes>"
      ]
     },
     "metadata": {
      "needs_background": "light"
     },
     "output_type": "display_data"
    },
    {
     "name": "stdout",
     "output_type": "stream",
     "text": [
      "\n",
      "Reporte de metricas:\n",
      "\n",
      "              precision    recall  f1-score   support\n",
      "\n",
      "           0       0.85      0.97      0.90        29\n",
      "           1       0.96      0.84      0.90        32\n",
      "\n",
      "    accuracy                           0.90        61\n",
      "   macro avg       0.91      0.90      0.90        61\n",
      "weighted avg       0.91      0.90      0.90        61\n",
      "\n",
      "\n",
      "------------------------------------------------------------\n",
      "Matriz de confusión del algoritmo Bayes\n",
      "\n"
     ]
    },
    {
     "data": {
      "image/png": "[encoded data removed]",
      "text/plain": [
       "<Figure size 288x288 with 2 Axes>"
      ]
     },
     "metadata": {
      "needs_background": "light"
     },
     "output_type": "display_data"
    },
    {
     "name": "stdout",
     "output_type": "stream",
     "text": [
      "\n",
      "Reporte de metricas:\n",
      "\n",
      "              precision    recall  f1-score   support\n",
      "\n",
      "           0       0.84      0.93      0.89        29\n",
      "           1       0.93      0.84      0.89        32\n",
      "\n",
      "    accuracy                           0.89        61\n",
      "   macro avg       0.89      0.89      0.89        61\n",
      "weighted avg       0.89      0.89      0.89        61\n",
      "\n",
      "\n",
      "------------------------------------------------------------\n",
      "Matriz de confusión del algoritmo SVectorial\n",
      "\n"
     ]
    },
    {
     "data": {
      "image/png": "[encoded data removed]",
      "text/plain": [
       "<Figure size 288x288 with 2 Axes>"
      ]
     },
     "metadata": {
      "needs_background": "light"
     },
     "output_type": "display_data"
    },
    {
     "name": "stdout",
     "output_type": "stream",
     "text": [
      "\n",
      "Reporte de metricas:\n",
      "\n",
      "              precision    recall  f1-score   support\n",
      "\n",
      "           0       0.82      0.93      0.87        29\n",
      "           1       0.93      0.81      0.87        32\n",
      "\n",
      "    accuracy                           0.87        61\n",
      "   macro avg       0.87      0.87      0.87        61\n",
      "weighted avg       0.88      0.87      0.87        61\n",
      "\n",
      "\n",
      "------------------------------------------------------------\n",
      "Matriz de confusión del algoritmo Arboles_decision\n",
      "\n"
     ]
    },
    {
     "data": {
      "image/png": "[encoded data removed]",
      "text/plain": [
       "<Figure size 288x288 with 2 Axes>"
      ]
     },
     "metadata": {
      "needs_background": "light"
     },
     "output_type": "display_data"
    },
    {
     "name": "stdout",
     "output_type": "stream",
     "text": [
      "\n",
      "Reporte de metricas:\n",
      "\n",
      "              precision    recall  f1-score   support\n",
      "\n",
      "           0       0.71      0.86      0.78        29\n",
      "           1       0.85      0.69      0.76        32\n",
      "\n",
      "    accuracy                           0.77        61\n",
      "   macro avg       0.78      0.77      0.77        61\n",
      "weighted avg       0.78      0.77      0.77        61\n",
      "\n",
      "\n",
      "------------------------------------------------------------\n",
      "Matriz de confusión del algoritmo LDA\n",
      "\n"
     ]
    },
    {
     "data": {
      "image/png": "[encoded data removed]",
      "text/plain": [
       "<Figure size 288x288 with 2 Axes>"
      ]
     },
     "metadata": {
      "needs_background": "light"
     },
     "output_type": "display_data"
    },
    {
     "name": "stdout",
     "output_type": "stream",
     "text": [
      "\n",
      "Reporte de metricas:\n",
      "\n",
      "              precision    recall  f1-score   support\n",
      "\n",
      "           0       0.83      0.83      0.83        29\n",
      "           1       0.84      0.84      0.84        32\n",
      "\n",
      "    accuracy                           0.84        61\n",
      "   macro avg       0.84      0.84      0.84        61\n",
      "weighted avg       0.84      0.84      0.84        61\n",
      "\n",
      "\n",
      "------------------------------------------------------------\n"
     ]
    }
   ],
   "source": [
    "for a in algoritmos:\n",
    "  algoritmo = algoritmos[a]\n",
    "  # Entrenamos los algoritmos\n",
    "  algoritmo.fit(X_train , y_train)\n",
    "\n",
    "  # Predecimos X_test\n",
    "  y_pred = algoritmo.predict(X_test)\n",
    "\n",
    "  # Graficamos la matrix de confusión\n",
    "  plt.figure(figsize=(4,4))\n",
    "  print(f'Matriz de confusión del algoritmo {a}\\n')\n",
    "  cm = confusion_matrix(y_test, y_pred)\n",
    "  sns.heatmap(cm, annot=True, fmt='d')\n",
    "  plt.show()\n",
    "\n",
    "  # Reporte de metricas\n",
    "  reporte = classification_report(y_test, y_pred)\n",
    "  print(f'\\nReporte de metricas:\\n\\n{reporte}\\n')\n",
    "  print(60 * '-')"
   ]
  },
  {
   "cell_type": "markdown",
   "metadata": {
    "id": "loRtMzt2Tmpq"
   },
   "source": [
    "Veamos con un gráfico los valores del output para recordar si están balanceados.\n",
    " \n",
    "\n"
   ]
  },
  {
   "cell_type": "code",
   "execution_count": 23,
   "metadata": {
    "colab": {
     "base_uri": "https://localhost:8080/",
     "height": 409
    },
    "id": "cPyx-qcb7hCR",
    "outputId": "100ca676-7c1d-481e-de71-05b7caf49a84"
   },
   "outputs": [
    {
     "name": "stdout",
     "output_type": "stream",
     "text": [
      "1    165\n",
      "0    138\n",
      "Name: output, dtype: int64\n"
     ]
    },
    {
     "data": {
      "image/png": "[encoded data removed]",
      "text/plain": [
       "<Figure size 432x432 with 1 Axes>"
      ]
     },
     "metadata": {},
     "output_type": "display_data"
    }
   ],
   "source": [
    "print(datos_output)\n",
    "labels = ['Más propensos', 'Menos propensos']\n",
    "\n",
    "plt.figure(figsize=(6,6))\n",
    "plt.pie(datos_output,\n",
    "        labels=labels,\n",
    "        colors=['red','green'],\n",
    "        shadow = True,\n",
    "        autopct = '%1.1f%%')\n",
    "plt.show()"
   ]
  },
  {
   "cell_type": "markdown",
   "metadata": {
    "id": "rW3p9eseXNHa"
   },
   "source": [
    "Vemos que los datos no estan desbalanceados. Por lo tanto, el **accuracy** (precisión), es una buena metrica a tener en cuenta para evaluar la efectividad del modelo de aprendizaje."
   ]
  },
  {
   "cell_type": "code",
   "execution_count": 24,
   "metadata": {
    "colab": {
     "base_uri": "https://localhost:8080/"
    },
    "id": "WpuXJIvIT2yj",
    "outputId": "65d0f0f6-2b58-4c3d-f1e0-8cd72119a280"
   },
   "outputs": [
    {
     "name": "stdout",
     "output_type": "stream",
     "text": [
      "Accuracy de Knn:\n",
      "0.9016393442622951\n",
      "\n",
      "Accuracy de Bayes:\n",
      "0.8852459016393442\n",
      "\n",
      "Accuracy de SVectorial:\n",
      "0.8688524590163934\n",
      "\n",
      "Accuracy de Arboles_decision:\n",
      "0.7868852459016393\n",
      "\n",
      "Accuracy de LDA:\n",
      "0.8360655737704918\n",
      "\n"
     ]
    }
   ],
   "source": [
    "for i in algoritmos:\n",
    "  a_accuracy = algoritmos[i]\n",
    "  a_accuracy.fit(X_train , y_train)\n",
    "  y_pred = a_accuracy.predict(X_test)\n",
    "  print(f'Accuracy de {i}:')\n",
    "  print(f'{accuracy_score(y_test, y_pred)}\\n')"
   ]
  },
  {
   "cell_type": "markdown",
   "metadata": {
    "id": "_y3GZNqShWqS"
   },
   "source": [
    "### Conclusiones y observaciones de este análisis.\n",
    " \n",
    "Dentro de este dataset tenemos una cantidad de 302 pacientes de los cuales el 54%(**cant: 164**) son propensos a sufrir un ataque cardíaco y un 45%(**cant: 138**) no lo son.\n",
    " \n",
    "El modelo de KNN tiene una precisión de 0.90% seguido por el modelo Bayes con un 0.88%.\n",
    " \n",
    "Teniendo en cuenta los gráficos de barra, podemos ver que aquellos que no hacen ejercicio y los que no tienen vasos principales (caa = 0) son propensos a sufrir un ataque cardiaco."
   ]
  }
 ],
 "metadata": {
  "colab": {
   "provenance": []
  },
  "kernelspec": {
   "display_name": "Python 3 (ipykernel)",
   "language": "python",
   "name": "python3"
  },
  "language_info": {
   "codemirror_mode": {
    "name": "ipython",
    "version": 3
   },
   "file_extension": ".py",
   "mimetype": "text/x-python",
   "name": "python",
   "nbconvert_exporter": "python",
   "pygments_lexer": "ipython3",
   "version": "3.9.7"
  }
 },
 "nbformat": 4,
 "nbformat_minor": 1
}
